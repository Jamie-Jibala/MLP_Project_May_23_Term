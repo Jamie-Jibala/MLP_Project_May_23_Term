{
 "cells": [
  {
   "cell_type": "code",
   "execution_count": 1,
   "id": "8c093d74",
   "metadata": {
    "_cell_guid": "b1076dfc-b9ad-4769-8c92-a6c4dae69d19",
    "_uuid": "8f2839f25d086af736a60e9eeb907d3b93b6e0e5",
    "execution": {
     "iopub.execute_input": "2023-03-30T17:52:48.604423Z",
     "iopub.status.busy": "2023-03-30T17:52:48.604002Z",
     "iopub.status.idle": "2023-03-30T17:52:48.615399Z",
     "shell.execute_reply": "2023-03-30T17:52:48.614530Z"
    },
    "papermill": {
     "duration": 0.024915,
     "end_time": "2023-03-30T17:52:48.618490",
     "exception": false,
     "start_time": "2023-03-30T17:52:48.593575",
     "status": "completed"
    },
    "tags": []
   },
   "outputs": [
    {
     "name": "stdout",
     "output_type": "stream",
     "text": [
      "/kaggle/input/e-commerce-shoppers-behaviour-understanding/test_data_v2.csv\n",
      "/kaggle/input/e-commerce-shoppers-behaviour-understanding/train_data_v2.csv\n",
      "/kaggle/input/e-commerce-shoppers-behaviour-understanding/sample.csv\n"
     ]
    }
   ],
   "source": [
    "# This Python 3 environment comes with many helpful analytics libraries installed\n",
    "# It is defined by the kaggle/python Docker image: https://github.com/kaggle/docker-python\n",
    "# For example, here's several helpful packages to load\n",
    "\n",
    "import numpy as np # linear algebra\n",
    "import pandas as pd # data processing, CSV file I/O (e.g. pd.read_csv)\n",
    "\n",
    "# Input data files are available in the read-only \"../input/\" directory\n",
    "# For example, running this (by clicking run or pressing Shift+Enter) will list all files under the input directory\n",
    "\n",
    "import os\n",
    "for dirname, _, filenames in os.walk('/kaggle/input'):\n",
    "    for filename in filenames:\n",
    "        print(os.path.join(dirname, filename))\n",
    "\n",
    "# You can write up to 20GB to the current directory (/kaggle/working/) that gets preserved as output when you create a version using \"Save & Run All\" \n",
    "# You can also write temporary files to /kaggle/temp/, but they won't be saved outside of the current session"
   ]
  },
  {
   "cell_type": "code",
   "execution_count": 2,
   "id": "757e6307",
   "metadata": {
    "execution": {
     "iopub.execute_input": "2023-03-30T17:52:48.638122Z",
     "iopub.status.busy": "2023-03-30T17:52:48.637743Z",
     "iopub.status.idle": "2023-03-30T17:52:49.531972Z",
     "shell.execute_reply": "2023-03-30T17:52:49.530404Z"
    },
    "papermill": {
     "duration": 0.906186,
     "end_time": "2023-03-30T17:52:49.534505",
     "exception": false,
     "start_time": "2023-03-30T17:52:48.628319",
     "status": "completed"
    },
    "tags": []
   },
   "outputs": [],
   "source": [
    "import seaborn as sns\n",
    "import matplotlib as mlt\n",
    "import math"
   ]
  },
  {
   "cell_type": "code",
   "execution_count": 3,
   "id": "d16babb3",
   "metadata": {
    "execution": {
     "iopub.execute_input": "2023-03-30T17:52:49.552136Z",
     "iopub.status.busy": "2023-03-30T17:52:49.551757Z",
     "iopub.status.idle": "2023-03-30T17:52:49.556215Z",
     "shell.execute_reply": "2023-03-30T17:52:49.555207Z"
    },
    "papermill": {
     "duration": 0.015773,
     "end_time": "2023-03-30T17:52:49.558418",
     "exception": false,
     "start_time": "2023-03-30T17:52:49.542645",
     "status": "completed"
    },
    "tags": []
   },
   "outputs": [],
   "source": [
    "from scipy.stats import randint as sp_randint\n",
    "from scipy.stats import uniform"
   ]
  },
  {
   "cell_type": "code",
   "execution_count": 4,
   "id": "8283e8e4",
   "metadata": {
    "execution": {
     "iopub.execute_input": "2023-03-30T17:52:49.576892Z",
     "iopub.status.busy": "2023-03-30T17:52:49.575480Z",
     "iopub.status.idle": "2023-03-30T17:52:49.967163Z",
     "shell.execute_reply": "2023-03-30T17:52:49.965788Z"
    },
    "papermill": {
     "duration": 0.403861,
     "end_time": "2023-03-30T17:52:49.970326",
     "exception": false,
     "start_time": "2023-03-30T17:52:49.566465",
     "status": "completed"
    },
    "tags": []
   },
   "outputs": [],
   "source": [
    "from sklearn.preprocessing import LabelEncoder, OrdinalEncoder\n",
    "from sklearn.ensemble import ExtraTreesRegressor, RandomForestClassifier\n",
    "from sklearn.feature_selection import RFE\n",
    "from sklearn.impute import SimpleImputer, KNNImputer\n",
    "from sklearn.preprocessing import MinMaxScaler, StandardScaler, MaxAbsScaler\n",
    "from sklearn.metrics import confusion_matrix, f1_score, accuracy_score\n",
    "from sklearn.model_selection import GridSearchCV, RandomizedSearchCV\n",
    "from sklearn.naive_bayes import GaussianNB"
   ]
  },
  {
   "cell_type": "code",
   "execution_count": 5,
   "id": "96dc103a",
   "metadata": {
    "execution": {
     "iopub.execute_input": "2023-03-30T17:52:49.989406Z",
     "iopub.status.busy": "2023-03-30T17:52:49.989023Z",
     "iopub.status.idle": "2023-03-30T17:52:50.086555Z",
     "shell.execute_reply": "2023-03-30T17:52:50.085420Z"
    },
    "papermill": {
     "duration": 0.108971,
     "end_time": "2023-03-30T17:52:50.089009",
     "exception": false,
     "start_time": "2023-03-30T17:52:49.980038",
     "status": "completed"
    },
    "tags": []
   },
   "outputs": [],
   "source": [
    "import xgboost as xgb"
   ]
  },
  {
   "cell_type": "code",
   "execution_count": 6,
   "id": "d7ea94ee",
   "metadata": {
    "execution": {
     "iopub.execute_input": "2023-03-30T17:52:50.106389Z",
     "iopub.status.busy": "2023-03-30T17:52:50.106046Z",
     "iopub.status.idle": "2023-03-30T17:52:50.110944Z",
     "shell.execute_reply": "2023-03-30T17:52:50.109788Z"
    },
    "papermill": {
     "duration": 0.016433,
     "end_time": "2023-03-30T17:52:50.113472",
     "exception": false,
     "start_time": "2023-03-30T17:52:50.097039",
     "status": "completed"
    },
    "tags": []
   },
   "outputs": [],
   "source": [
    "from sklearn.dummy import DummyClassifier"
   ]
  },
  {
   "cell_type": "code",
   "execution_count": 7,
   "id": "cf428dd7",
   "metadata": {
    "execution": {
     "iopub.execute_input": "2023-03-30T17:52:50.131281Z",
     "iopub.status.busy": "2023-03-30T17:52:50.130919Z",
     "iopub.status.idle": "2023-03-30T17:52:50.236559Z",
     "shell.execute_reply": "2023-03-30T17:52:50.235564Z"
    },
    "papermill": {
     "duration": 0.117647,
     "end_time": "2023-03-30T17:52:50.239271",
     "exception": false,
     "start_time": "2023-03-30T17:52:50.121624",
     "status": "completed"
    },
    "tags": []
   },
   "outputs": [],
   "source": [
    "df = pd.read_csv(\"/kaggle/input/e-commerce-shoppers-behaviour-understanding/train_data_v2.csv\")\n",
    "df1 = pd.read_csv(\"/kaggle/input/e-commerce-shoppers-behaviour-understanding/test_data_v2.csv\")"
   ]
  },
  {
   "cell_type": "code",
   "execution_count": 8,
   "id": "895d84ca",
   "metadata": {
    "execution": {
     "iopub.execute_input": "2023-03-30T17:52:50.257403Z",
     "iopub.status.busy": "2023-03-30T17:52:50.257052Z",
     "iopub.status.idle": "2023-03-30T17:52:50.667585Z",
     "shell.execute_reply": "2023-03-30T17:52:50.666119Z"
    },
    "papermill": {
     "duration": 0.422402,
     "end_time": "2023-03-30T17:52:50.670040",
     "exception": false,
     "start_time": "2023-03-30T17:52:50.247638",
     "status": "completed"
    },
    "tags": []
   },
   "outputs": [
    {
     "data": {
      "text/plain": [
       "<AxesSubplot:>"
      ]
     },
     "execution_count": 8,
     "metadata": {},
     "output_type": "execute_result"
    },
    {
     "data": {
      "image/png": "[encoded data removed]",
      "text/plain": [
       "<Figure size 432x288 with 2 Axes>"
      ]
     },
     "metadata": {
      "needs_background": "light"
     },
     "output_type": "display_data"
    }
   ],
   "source": [
    "%matplotlib inline\n",
    "corr_matrix = df.corr()\n",
    "sns.heatmap(corr_matrix,cmap='coolwarm')"
   ]
  },
  {
   "cell_type": "code",
   "execution_count": 9,
   "id": "8de246b5",
   "metadata": {
    "execution": {
     "iopub.execute_input": "2023-03-30T17:52:50.690243Z",
     "iopub.status.busy": "2023-03-30T17:52:50.689625Z",
     "iopub.status.idle": "2023-03-30T17:52:50.700779Z",
     "shell.execute_reply": "2023-03-30T17:52:50.699914Z"
    },
    "papermill": {
     "duration": 0.024547,
     "end_time": "2023-03-30T17:52:50.703314",
     "exception": false,
     "start_time": "2023-03-30T17:52:50.678767",
     "status": "completed"
    },
    "tags": []
   },
   "outputs": [],
   "source": [
    "x = np.array(df1.iloc[:,0:20])"
   ]
  },
  {
   "cell_type": "code",
   "execution_count": 10,
   "id": "c680f4f1",
   "metadata": {
    "execution": {
     "iopub.execute_input": "2023-03-30T17:52:50.722373Z",
     "iopub.status.busy": "2023-03-30T17:52:50.722054Z",
     "iopub.status.idle": "2023-03-30T17:52:50.743109Z",
     "shell.execute_reply": "2023-03-30T17:52:50.742054Z"
    },
    "papermill": {
     "duration": 0.033312,
     "end_time": "2023-03-30T17:52:50.745496",
     "exception": false,
     "start_time": "2023-03-30T17:52:50.712184",
     "status": "completed"
    },
    "tags": []
   },
   "outputs": [],
   "source": [
    "X = np.array(df.iloc[:,0:20])\n",
    "y = np.array(df[\"Made_Purchase\"])"
   ]
  },
  {
   "cell_type": "code",
   "execution_count": 11,
   "id": "900c48e2",
   "metadata": {
    "execution": {
     "iopub.execute_input": "2023-03-30T17:52:50.764555Z",
     "iopub.status.busy": "2023-03-30T17:52:50.764196Z",
     "iopub.status.idle": "2023-03-30T17:52:50.770340Z",
     "shell.execute_reply": "2023-03-30T17:52:50.769070Z"
    },
    "papermill": {
     "duration": 0.018138,
     "end_time": "2023-03-30T17:52:50.772374",
     "exception": false,
     "start_time": "2023-03-30T17:52:50.754236",
     "status": "completed"
    },
    "tags": []
   },
   "outputs": [
    {
     "name": "stdout",
     "output_type": "stream",
     "text": [
      "[[0.0 0.0 0.0 ... 'Deny' 'Not Specified' 'Other']\n",
      " [0.0 0.0 0.0 ... 'Deny' 'Others' 'Married']\n",
      " [0.0 0.0 0.0 ... 'ALL' 'Others' 'Married']\n",
      " ...\n",
      " [2.0 75.6 2.0 ... 'Required' 'Others' 'Single']\n",
      " [0.0 0.0 0.0 ... 'Required' 'Not Specified' 'Married']\n",
      " [0.0 0.0 0.0 ... 'ALL' 'Diploma' 'Other']]\n",
      "[False False False ...  True  True  True]\n",
      "(14731, 20) (14731,)\n"
     ]
    }
   ],
   "source": [
    "print(X)\n",
    "\n",
    "print(y)\n",
    "\n",
    "print(X.shape, y.shape)\n"
   ]
  },
  {
   "cell_type": "code",
   "execution_count": 12,
   "id": "8335b794",
   "metadata": {
    "execution": {
     "iopub.execute_input": "2023-03-30T17:52:50.792218Z",
     "iopub.status.busy": "2023-03-30T17:52:50.791182Z",
     "iopub.status.idle": "2023-03-30T17:52:50.815214Z",
     "shell.execute_reply": "2023-03-30T17:52:50.814218Z"
    },
    "papermill": {
     "duration": 0.035956,
     "end_time": "2023-03-30T17:52:50.817199",
     "exception": false,
     "start_time": "2023-03-30T17:52:50.781243",
     "status": "completed"
    },
    "tags": []
   },
   "outputs": [
    {
     "name": "stdout",
     "output_type": "stream",
     "text": [
      "<class 'pandas.core.frame.DataFrame'>\n",
      "RangeIndex: 14731 entries, 0 to 14730\n",
      "Data columns (total 20 columns):\n",
      " #   Column                           Non-Null Count  Dtype  \n",
      "---  ------                           --------------  -----  \n",
      " 0   HomePage                         14578 non-null  float64\n",
      " 1   HomePage_Duration                14581 non-null  float64\n",
      " 2   LandingPage                      14578 non-null  float64\n",
      " 3   LandingPage_Duration             14596 non-null  float64\n",
      " 4   ProductDescriptionPage           14608 non-null  float64\n",
      " 5   ProductDescriptionPage_Duration  14564 non-null  float64\n",
      " 6   GoogleMetric:Bounce Rates        14580 non-null  float64\n",
      " 7   GoogleMetric:Exit Rates          14602 non-null  float64\n",
      " 8   GoogleMetric:Page Values         14599 non-null  float64\n",
      " 9   SeasonalPurchase                 14581 non-null  float64\n",
      " 10  Month_SeasonalPurchase           14587 non-null  object \n",
      " 11  OS                               14597 non-null  float64\n",
      " 12  SearchEngine                     14609 non-null  float64\n",
      " 13  Zone                             14614 non-null  float64\n",
      " 14  Type of Traffic                  14588 non-null  float64\n",
      " 15  CustomerType                     14587 non-null  object \n",
      " 16  Gender                           14586 non-null  object \n",
      " 17  Cookies Setting                  14587 non-null  object \n",
      " 18  Education                        14595 non-null  object \n",
      " 19  Marital Status                   14601 non-null  object \n",
      "dtypes: float64(14), object(6)\n",
      "memory usage: 2.2+ MB\n"
     ]
    }
   ],
   "source": [
    "X_df = df.iloc[:,0:20]\n",
    "y_df= df['Made_Purchase']\n",
    "\n",
    "X_df.info()\n"
   ]
  },
  {
   "cell_type": "code",
   "execution_count": 13,
   "id": "77d78892",
   "metadata": {
    "execution": {
     "iopub.execute_input": "2023-03-30T17:52:50.837330Z",
     "iopub.status.busy": "2023-03-30T17:52:50.836954Z",
     "iopub.status.idle": "2023-03-30T17:52:50.852126Z",
     "shell.execute_reply": "2023-03-30T17:52:50.850841Z"
    },
    "papermill": {
     "duration": 0.027997,
     "end_time": "2023-03-30T17:52:50.854622",
     "exception": false,
     "start_time": "2023-03-30T17:52:50.826625",
     "status": "completed"
    },
    "tags": []
   },
   "outputs": [
    {
     "data": {
      "text/plain": [
       "Index(['GoogleMetric:Bounce Rates', 'GoogleMetric:Exit Rates',\n",
       "       'GoogleMetric:Page Values', 'HomePage', 'HomePage_Duration',\n",
       "       'LandingPage', 'LandingPage_Duration', 'OS', 'ProductDescriptionPage',\n",
       "       'ProductDescriptionPage_Duration', 'SearchEngine', 'SeasonalPurchase',\n",
       "       'Type of Traffic', 'Zone'],\n",
       "      dtype='object')"
      ]
     },
     "execution_count": 13,
     "metadata": {},
     "output_type": "execute_result"
    }
   ],
   "source": [
    "X_df_flt1 = df.iloc[:,0:10] \n",
    "X_df_flt2 = df.iloc[:,11:15]\n",
    "X_df_flt = X_df_flt1+X_df_flt2\n",
    "\n",
    "X_df_flt.columns\n"
   ]
  },
  {
   "cell_type": "code",
   "execution_count": 14,
   "id": "a1df218e",
   "metadata": {
    "execution": {
     "iopub.execute_input": "2023-03-30T17:52:50.874250Z",
     "iopub.status.busy": "2023-03-30T17:52:50.873850Z",
     "iopub.status.idle": "2023-03-30T17:52:50.880177Z",
     "shell.execute_reply": "2023-03-30T17:52:50.879328Z"
    },
    "papermill": {
     "duration": 0.018363,
     "end_time": "2023-03-30T17:52:50.882103",
     "exception": false,
     "start_time": "2023-03-30T17:52:50.863740",
     "status": "completed"
    },
    "tags": []
   },
   "outputs": [],
   "source": [
    "X_df_str_clmns = ['Gender'\n",
    ",'CustomerType'\n",
    ",'Marital Status'\n",
    ",'Month_SeasonalPurchase'\n",
    ",'Cookies Setting'\n",
    ",'Education']\n",
    "X_df_str = X_df[X_df_str_clmns]\n"
   ]
  },
  {
   "cell_type": "code",
   "execution_count": 15,
   "id": "62b7751e",
   "metadata": {
    "execution": {
     "iopub.execute_input": "2023-03-30T17:52:50.901490Z",
     "iopub.status.busy": "2023-03-30T17:52:50.901099Z",
     "iopub.status.idle": "2023-03-30T17:52:50.906829Z",
     "shell.execute_reply": "2023-03-30T17:52:50.905558Z"
    },
    "papermill": {
     "duration": 0.017807,
     "end_time": "2023-03-30T17:52:50.908876",
     "exception": false,
     "start_time": "2023-03-30T17:52:50.891069",
     "status": "completed"
    },
    "tags": []
   },
   "outputs": [
    {
     "name": "stdout",
     "output_type": "stream",
     "text": [
      "0\n"
     ]
    }
   ],
   "source": [
    "#print(y_df.info())\n",
    "\n",
    "print(y_df.isnull().sum())\n"
   ]
  },
  {
   "cell_type": "code",
   "execution_count": 16,
   "id": "0a6d985c",
   "metadata": {
    "execution": {
     "iopub.execute_input": "2023-03-30T17:52:50.929312Z",
     "iopub.status.busy": "2023-03-30T17:52:50.928501Z",
     "iopub.status.idle": "2023-03-30T17:52:50.937674Z",
     "shell.execute_reply": "2023-03-30T17:52:50.937071Z"
    },
    "papermill": {
     "duration": 0.021882,
     "end_time": "2023-03-30T17:52:50.939893",
     "exception": false,
     "start_time": "2023-03-30T17:52:50.918011",
     "status": "completed"
    },
    "tags": []
   },
   "outputs": [
    {
     "data": {
      "text/plain": [
       "0        0\n",
       "1        0\n",
       "2        0\n",
       "3        0\n",
       "4        0\n",
       "        ..\n",
       "14726    1\n",
       "14727    1\n",
       "14728    1\n",
       "14729    1\n",
       "14730    1\n",
       "Name: Made_Purchase, Length: 14731, dtype: int64"
      ]
     },
     "execution_count": 16,
     "metadata": {},
     "output_type": "execute_result"
    }
   ],
   "source": [
    "y_df_new = y_df.map({True: 1, False: 0})\n",
    "\n",
    "y_df_new\n"
   ]
  },
  {
   "cell_type": "code",
   "execution_count": 17,
   "id": "8bed6f19",
   "metadata": {
    "execution": {
     "iopub.execute_input": "2023-03-30T17:52:50.960369Z",
     "iopub.status.busy": "2023-03-30T17:52:50.959794Z",
     "iopub.status.idle": "2023-03-30T17:52:50.989328Z",
     "shell.execute_reply": "2023-03-30T17:52:50.988584Z"
    },
    "papermill": {
     "duration": 0.04223,
     "end_time": "2023-03-30T17:52:50.991465",
     "exception": false,
     "start_time": "2023-03-30T17:52:50.949235",
     "status": "completed"
    },
    "tags": []
   },
   "outputs": [],
   "source": [
    "#X_df['Gender'].unique()\n",
    "\n",
    "SI = SimpleImputer(strategy = 'most_frequent')\n",
    "SI.fit(X_df[['Gender']])\n",
    "X_df['Gender']=SI.fit_transform(X_df[['Gender']])\n",
    "\n",
    "#print(X_df['Gender'].value_counts())\n",
    "#print(X_df['Gender'].info())\n",
    "\n",
    "#X_df['CustomerType'].value_counts()\n",
    "\n",
    "SI = SimpleImputer(strategy = 'most_frequent')\n",
    "SI.fit(X_df[['CustomerType']])\n",
    "X_df['CustomerType']=SI.fit_transform(X_df[['CustomerType']])\n",
    "\n",
    "#X_df['Month_SeasonalPurchase'].value_counts()\n",
    "\n",
    "SI = SimpleImputer(strategy = 'most_frequent')\n",
    "SI.fit(X_df[['Month_SeasonalPurchase']])\n",
    "X_df['Month_SeasonalPurchase']=SI.fit_transform(X_df[['Month_SeasonalPurchase']])\n"
   ]
  },
  {
   "cell_type": "code",
   "execution_count": 18,
   "id": "0ae3ee9e",
   "metadata": {
    "execution": {
     "iopub.execute_input": "2023-03-30T17:52:51.010992Z",
     "iopub.status.busy": "2023-03-30T17:52:51.010400Z",
     "iopub.status.idle": "2023-03-30T17:52:51.943216Z",
     "shell.execute_reply": "2023-03-30T17:52:51.942441Z"
    },
    "papermill": {
     "duration": 0.945025,
     "end_time": "2023-03-30T17:52:51.945405",
     "exception": false,
     "start_time": "2023-03-30T17:52:51.000380",
     "status": "completed"
    },
    "tags": []
   },
   "outputs": [],
   "source": [
    "# KNN Imputation\n",
    "\n",
    "knn = KNNImputer(n_neighbors = int(math.sqrt(14731)))\n",
    "for i in X_df_flt.columns:\n",
    "  X_df[[i]]=knn.fit_transform(X_df[[i]])\n",
    "\n",
    "#X_df.info()\n"
   ]
  },
  {
   "cell_type": "code",
   "execution_count": 19,
   "id": "810dd854",
   "metadata": {
    "execution": {
     "iopub.execute_input": "2023-03-30T17:52:51.970039Z",
     "iopub.status.busy": "2023-03-30T17:52:51.969657Z",
     "iopub.status.idle": "2023-03-30T17:52:57.389715Z",
     "shell.execute_reply": "2023-03-30T17:52:57.388136Z"
    },
    "papermill": {
     "duration": 5.435722,
     "end_time": "2023-03-30T17:52:57.392800",
     "exception": false,
     "start_time": "2023-03-30T17:52:51.957078",
     "status": "completed"
    },
    "tags": []
   },
   "outputs": [
    {
     "name": "stdout",
     "output_type": "stream",
     "text": [
      "<class 'pandas.core.frame.DataFrame'>\n",
      "Int64Index: 14731 entries, 0 to 14726\n",
      "Data columns (total 20 columns):\n",
      " #   Column                           Non-Null Count  Dtype  \n",
      "---  ------                           --------------  -----  \n",
      " 0   HomePage                         14731 non-null  float64\n",
      " 1   HomePage_Duration                14731 non-null  float64\n",
      " 2   LandingPage                      14731 non-null  float64\n",
      " 3   LandingPage_Duration             14731 non-null  float64\n",
      " 4   ProductDescriptionPage           14731 non-null  float64\n",
      " 5   ProductDescriptionPage_Duration  14731 non-null  float64\n",
      " 6   GoogleMetric:Bounce Rates        14731 non-null  float64\n",
      " 7   GoogleMetric:Exit Rates          14731 non-null  float64\n",
      " 8   GoogleMetric:Page Values         14731 non-null  float64\n",
      " 9   SeasonalPurchase                 14731 non-null  float64\n",
      " 10  Month_SeasonalPurchase           14731 non-null  float64\n",
      " 11  OS                               14731 non-null  float64\n",
      " 12  SearchEngine                     14731 non-null  float64\n",
      " 13  Zone                             14731 non-null  float64\n",
      " 14  Type of Traffic                  14731 non-null  float64\n",
      " 15  CustomerType                     14731 non-null  float64\n",
      " 16  Gender                           14731 non-null  float64\n",
      " 17  Cookies Setting                  14731 non-null  float64\n",
      " 18  Education                        14731 non-null  float64\n",
      " 19  Marital Status                   14731 non-null  float64\n",
      "dtypes: float64(20)\n",
      "memory usage: 2.4 MB\n"
     ]
    },
    {
     "name": "stderr",
     "output_type": "stream",
     "text": [
      "/opt/conda/lib/python3.7/site-packages/pandas/core/frame.py:3678: SettingWithCopyWarning: \n",
      "A value is trying to be set on a copy of a slice from a DataFrame.\n",
      "Try using .loc[row_indexer,col_indexer] = value instead\n",
      "\n",
      "See the caveats in the documentation: https://pandas.pydata.org/pandas-docs/stable/user_guide/indexing.html#returning-a-view-versus-a-copy\n",
      "  self[col] = igetitem(value, i)\n"
     ]
    }
   ],
   "source": [
    "\"\"\"# Fill using Random Forest\"\"\"\n",
    "\n",
    "X_df_cpy = X_df.copy()\n",
    "\n",
    "oe = OrdinalEncoder()\n",
    "X_df_cpy[X_df_str_clmns]= oe.fit_transform(X_df_cpy[X_df_str_clmns])\n",
    "\n",
    "df_missing = X_df_cpy[X_df_cpy.isnull().any(axis=1)]\n",
    "df_not_missing = X_df_cpy[~X_df_cpy.isnull().any(axis=1)]\n",
    "\n",
    "#df_missing['Marital Status']\n",
    "\n",
    "\n",
    "\n",
    "#df_missing\n",
    "\n",
    "#X_df_cpy\n",
    "\n",
    "X_train_imp = df_not_missing.drop(['Marital Status', 'Education', 'Cookies Setting'], axis=1)  # Features without missing values\n",
    "y_train_imp = df_not_missing[['Marital Status', 'Education', 'Cookies Setting']]\n",
    "\n",
    "rf = RandomForestClassifier(n_estimators=100)\n",
    "rf.fit(X_train_imp, y_train_imp)\n",
    "\n",
    "X_missing = df_missing.drop(['Marital Status', 'Education', 'Cookies Setting'], axis=1)  # Features with missing values\n",
    "y_pred_imp = rf.predict(X_missing)\n",
    "\n",
    "df_missing[['Marital Status', 'Education', 'Cookies Setting']] = y_pred_imp\n",
    "\n",
    "df_filled = pd.concat([df_not_missing, df_missing])\n",
    "\n",
    "df_filled.info()\n"
   ]
  },
  {
   "cell_type": "code",
   "execution_count": 20,
   "id": "134d1e1f",
   "metadata": {
    "execution": {
     "iopub.execute_input": "2023-03-30T17:52:57.414845Z",
     "iopub.status.busy": "2023-03-30T17:52:57.414445Z",
     "iopub.status.idle": "2023-03-30T17:52:57.431796Z",
     "shell.execute_reply": "2023-03-30T17:52:57.430372Z"
    },
    "papermill": {
     "duration": 0.031099,
     "end_time": "2023-03-30T17:52:57.434235",
     "exception": false,
     "start_time": "2023-03-30T17:52:57.403136",
     "status": "completed"
    },
    "tags": []
   },
   "outputs": [],
   "source": [
    "mms = MinMaxScaler()\n",
    "mms_data = mms.fit_transform(df_filled)\n",
    "mms_scaled_df = pd.DataFrame(mms_data, columns=df_filled.columns)\n",
    "\n",
    "SS = StandardScaler()\n",
    "ss_data = SS.fit_transform(df_filled)\n",
    "ss_scaled_df = pd.DataFrame(ss_data, columns=df_filled.columns)\n",
    "\n",
    "#MAS = MaxAbsScaler()\n",
    "#df_filled_3 = MAS.fit_transform(df_filled)\n",
    "\n",
    "#df_filled.head()\n",
    "\n",
    "#mms_scaled_df.head()\n",
    "\n"
   ]
  },
  {
   "cell_type": "code",
   "execution_count": 21,
   "id": "522509f9",
   "metadata": {
    "execution": {
     "iopub.execute_input": "2023-03-30T17:52:57.455124Z",
     "iopub.status.busy": "2023-03-30T17:52:57.454704Z",
     "iopub.status.idle": "2023-03-30T17:52:57.459844Z",
     "shell.execute_reply": "2023-03-30T17:52:57.458383Z"
    },
    "papermill": {
     "duration": 0.017711,
     "end_time": "2023-03-30T17:52:57.461703",
     "exception": false,
     "start_time": "2023-03-30T17:52:57.443992",
     "status": "completed"
    },
    "tags": []
   },
   "outputs": [],
   "source": [
    "##dummy_clf = DummyClassifier(strategy=\"most_frequent\")\n",
    "##dummy_clf.fit(X, y)\n",
    "##Column2 = dummy_clf.predict(x)\n",
    "##data_to_submit = pd.DataFrame(Column2)"
   ]
  },
  {
   "cell_type": "code",
   "execution_count": 22,
   "id": "83850ffa",
   "metadata": {
    "execution": {
     "iopub.execute_input": "2023-03-30T17:52:57.482605Z",
     "iopub.status.busy": "2023-03-30T17:52:57.482060Z",
     "iopub.status.idle": "2023-03-30T17:52:57.497278Z",
     "shell.execute_reply": "2023-03-30T17:52:57.495315Z"
    },
    "papermill": {
     "duration": 0.028871,
     "end_time": "2023-03-30T17:52:57.500008",
     "exception": false,
     "start_time": "2023-03-30T17:52:57.471137",
     "status": "completed"
    },
    "tags": []
   },
   "outputs": [
    {
     "name": "stdout",
     "output_type": "stream",
     "text": [
      "<class 'pandas.core.frame.DataFrame'>\n",
      "RangeIndex: 6599 entries, 0 to 6598\n",
      "Data columns (total 20 columns):\n",
      " #   Column                           Non-Null Count  Dtype  \n",
      "---  ------                           --------------  -----  \n",
      " 0   HomePage                         6548 non-null   float64\n",
      " 1   HomePage_Duration                6544 non-null   float64\n",
      " 2   LandingPage                      6543 non-null   float64\n",
      " 3   LandingPage_Duration             6524 non-null   float64\n",
      " 4   ProductDescriptionPage           6541 non-null   float64\n",
      " 5   ProductDescriptionPage_Duration  6536 non-null   float64\n",
      " 6   GoogleMetric:Bounce Rates        6533 non-null   float64\n",
      " 7   GoogleMetric:Exit Rates          6548 non-null   float64\n",
      " 8   GoogleMetric:Page Values         6554 non-null   float64\n",
      " 9   SeasonalPurchase                 6554 non-null   float64\n",
      " 10  Month_SeasonalPurchase           6541 non-null   object \n",
      " 11  OS                               6537 non-null   float64\n",
      " 12  SearchEngine                     6541 non-null   float64\n",
      " 13  Zone                             6552 non-null   float64\n",
      " 14  Type of Traffic                  6531 non-null   float64\n",
      " 15  CustomerType                     6511 non-null   object \n",
      " 16  Gender                           6535 non-null   object \n",
      " 17  Cookies Setting                  6537 non-null   object \n",
      " 18  Education                        6530 non-null   object \n",
      " 19  Marital Status                   6552 non-null   object \n",
      "dtypes: float64(14), object(6)\n",
      "memory usage: 1.0+ MB\n",
      "None\n"
     ]
    }
   ],
   "source": [
    "\"\"\"# Test Data\"\"\"\n",
    "\n",
    "X_test_df = df1.iloc[:,0:20]\n",
    "y_test_df = df1['WeekendPurchase']\n",
    "\n",
    "print(X_test_df.info())\n",
    "\n",
    "\n"
   ]
  },
  {
   "cell_type": "code",
   "execution_count": 23,
   "id": "d200d161",
   "metadata": {
    "execution": {
     "iopub.execute_input": "2023-03-30T17:52:57.521445Z",
     "iopub.status.busy": "2023-03-30T17:52:57.521085Z",
     "iopub.status.idle": "2023-03-30T17:53:00.368507Z",
     "shell.execute_reply": "2023-03-30T17:53:00.366911Z"
    },
    "papermill": {
     "duration": 2.860757,
     "end_time": "2023-03-30T17:53:00.371157",
     "exception": false,
     "start_time": "2023-03-30T17:52:57.510400",
     "status": "completed"
    },
    "tags": []
   },
   "outputs": [
    {
     "name": "stdout",
     "output_type": "stream",
     "text": [
      "<class 'pandas.core.frame.DataFrame'>\n",
      "Int64Index: 6599 entries, 0 to 6584\n",
      "Data columns (total 20 columns):\n",
      " #   Column                           Non-Null Count  Dtype  \n",
      "---  ------                           --------------  -----  \n",
      " 0   HomePage                         6599 non-null   float64\n",
      " 1   HomePage_Duration                6599 non-null   float64\n",
      " 2   LandingPage                      6599 non-null   float64\n",
      " 3   LandingPage_Duration             6599 non-null   float64\n",
      " 4   ProductDescriptionPage           6599 non-null   float64\n",
      " 5   ProductDescriptionPage_Duration  6599 non-null   float64\n",
      " 6   GoogleMetric:Bounce Rates        6599 non-null   float64\n",
      " 7   GoogleMetric:Exit Rates          6599 non-null   float64\n",
      " 8   GoogleMetric:Page Values         6599 non-null   float64\n",
      " 9   SeasonalPurchase                 6599 non-null   float64\n",
      " 10  Month_SeasonalPurchase           6599 non-null   float64\n",
      " 11  OS                               6599 non-null   float64\n",
      " 12  SearchEngine                     6599 non-null   float64\n",
      " 13  Zone                             6599 non-null   float64\n",
      " 14  Type of Traffic                  6599 non-null   float64\n",
      " 15  CustomerType                     6599 non-null   float64\n",
      " 16  Gender                           6599 non-null   float64\n",
      " 17  Cookies Setting                  6599 non-null   float64\n",
      " 18  Education                        6599 non-null   float64\n",
      " 19  Marital Status                   6599 non-null   float64\n",
      "dtypes: float64(20)\n",
      "memory usage: 1.1 MB\n"
     ]
    },
    {
     "name": "stderr",
     "output_type": "stream",
     "text": [
      "/opt/conda/lib/python3.7/site-packages/pandas/core/frame.py:3678: SettingWithCopyWarning: \n",
      "A value is trying to be set on a copy of a slice from a DataFrame.\n",
      "Try using .loc[row_indexer,col_indexer] = value instead\n",
      "\n",
      "See the caveats in the documentation: https://pandas.pydata.org/pandas-docs/stable/user_guide/indexing.html#returning-a-view-versus-a-copy\n",
      "  self[col] = igetitem(value, i)\n"
     ]
    }
   ],
   "source": [
    "for i in X_df_flt.columns:\n",
    "  X_test_df[[i]]=knn.fit_transform(X_test_df[[i]])\n",
    "\n",
    "X_test_df_cpy = X_test_df.copy()\n",
    "\n",
    "X_test_df_cpy[X_df_str_clmns]= oe.fit_transform(X_test_df_cpy[X_df_str_clmns])\n",
    "\n",
    "df_test_missing = X_test_df_cpy[X_test_df_cpy.isnull().any(axis=1)]\n",
    "df_test_not_missing = X_test_df_cpy[~X_test_df_cpy.isnull().any(axis=1)]\n",
    "\n",
    "X_test_imp = df_test_not_missing.drop(X_df_str_clmns, axis=1)  # Features without missing values\n",
    "y_test_imp = df_test_not_missing[X_df_str_clmns]\n",
    "\n",
    "rf = RandomForestClassifier(n_estimators=100)\n",
    "rf.fit(X_test_imp, y_test_imp)\n",
    "\n",
    "X_test_missing = df_test_missing.drop(X_df_str_clmns, axis=1)  # Features with missing values\n",
    "y_test_pred_imp = rf.predict(X_test_missing)\n",
    "\n",
    "df_test_missing[X_df_str_clmns] = y_test_pred_imp\n",
    "\n",
    "df_test_filled = pd.concat([df_test_not_missing, df_test_missing])\n",
    "\n",
    "df_test_filled.info()\n",
    "\n"
   ]
  },
  {
   "cell_type": "code",
   "execution_count": 24,
   "id": "fe32a6bf",
   "metadata": {
    "execution": {
     "iopub.execute_input": "2023-03-30T17:53:00.391725Z",
     "iopub.status.busy": "2023-03-30T17:53:00.391386Z",
     "iopub.status.idle": "2023-03-30T17:53:00.411507Z",
     "shell.execute_reply": "2023-03-30T17:53:00.410450Z"
    },
    "papermill": {
     "duration": 0.032741,
     "end_time": "2023-03-30T17:53:00.413520",
     "exception": false,
     "start_time": "2023-03-30T17:53:00.380779",
     "status": "completed"
    },
    "tags": []
   },
   "outputs": [
    {
     "data": {
      "text/plain": [
       "0       0.0\n",
       "1       0.0\n",
       "2       0.0\n",
       "3       0.0\n",
       "4       0.0\n",
       "       ... \n",
       "6594    1.0\n",
       "6595    0.0\n",
       "6596    0.0\n",
       "6597    1.0\n",
       "6598    0.0\n",
       "Length: 6599, dtype: float64"
      ]
     },
     "execution_count": 24,
     "metadata": {},
     "output_type": "execute_result"
    }
   ],
   "source": [
    "mms = MinMaxScaler()\n",
    "mms_test_data = mms.fit_transform(df_test_filled)\n",
    "mms_test_scaled_df = pd.DataFrame(mms_test_data, columns=df_filled.columns)\n",
    "\n",
    "ss_test_data = SS.fit_transform(df_test_filled)\n",
    "ss_test_scaled_df = pd.DataFrame(ss_test_data, columns=df_filled.columns)\n",
    "\n",
    "SI.fit(y_test_df.dropna().values.reshape(-1, 1))\n",
    "imputed_values = SI.transform(y_test_df.values.reshape(-1, 1)).flatten()\n",
    "\n",
    "y_test_df = pd.Series(imputed_values, index=y_test_df.index)\n",
    "\n",
    "#y_test_df.info()\n",
    "\n",
    "y_test_df"
   ]
  },
  {
   "cell_type": "code",
   "execution_count": 25,
   "id": "e7c5081c",
   "metadata": {
    "execution": {
     "iopub.execute_input": "2023-03-30T17:53:00.434169Z",
     "iopub.status.busy": "2023-03-30T17:53:00.433808Z",
     "iopub.status.idle": "2023-03-30T17:53:00.440397Z",
     "shell.execute_reply": "2023-03-30T17:53:00.439277Z"
    },
    "papermill": {
     "duration": 0.01903,
     "end_time": "2023-03-30T17:53:00.442163",
     "exception": false,
     "start_time": "2023-03-30T17:53:00.423133",
     "status": "completed"
    },
    "tags": []
   },
   "outputs": [
    {
     "data": {
      "text/plain": [
       "'from sklearn.linear_model import LogisticRegression\\nfrom sklearn.model_selection import train_test_split\\n\\nlogreg = LogisticRegression(random_state = 26, penalty=\"l2\", solver=\\'liblinear\\')\\nmodel = logreg.fit(ss_scaled_df, y_df_new)\\ny_pred_log = logreg.predict(ss_test_scaled_df)\\ny_pred_log_train = logreg.predict(ss_scaled_df)\\n\\nprint(\"F1 Score Test Data : \", f1_score(y_test_df,y_pred_log))\\nprint(\"F1 Score Train Data : \", f1_score(y_df_new,y_pred_log_train))\\n\\nprint(\"Accuracy Test Data : \", accuracy_score(y_test_df,y_pred_log))\\nprint(\"Accuracy Train Data : \", accuracy_score(y_df_new,y_pred_log_train))\\n'"
      ]
     },
     "execution_count": 25,
     "metadata": {},
     "output_type": "execute_result"
    }
   ],
   "source": [
    "\"\"\"# Logistic Regression\"\"\"\n",
    "\n",
    "\"\"\"from sklearn.linear_model import LogisticRegression\n",
    "from sklearn.model_selection import train_test_split\n",
    "\n",
    "logreg = LogisticRegression(random_state = 26, penalty=\"l2\", solver='liblinear')\n",
    "model = logreg.fit(ss_scaled_df, y_df_new)\n",
    "y_pred_log = logreg.predict(ss_test_scaled_df)\n",
    "y_pred_log_train = logreg.predict(ss_scaled_df)\n",
    "\n",
    "print(\"F1 Score Test Data : \", f1_score(y_test_df,y_pred_log))\n",
    "print(\"F1 Score Train Data : \", f1_score(y_df_new,y_pred_log_train))\n",
    "\n",
    "print(\"Accuracy Test Data : \", accuracy_score(y_test_df,y_pred_log))\n",
    "print(\"Accuracy Train Data : \", accuracy_score(y_df_new,y_pred_log_train))\n",
    "\"\"\"\n"
   ]
  },
  {
   "cell_type": "code",
   "execution_count": 26,
   "id": "fd950545",
   "metadata": {
    "execution": {
     "iopub.execute_input": "2023-03-30T17:53:00.462584Z",
     "iopub.status.busy": "2023-03-30T17:53:00.462268Z",
     "iopub.status.idle": "2023-03-30T17:53:00.468209Z",
     "shell.execute_reply": "2023-03-30T17:53:00.467318Z"
    },
    "papermill": {
     "duration": 0.018321,
     "end_time": "2023-03-30T17:53:00.470002",
     "exception": false,
     "start_time": "2023-03-30T17:53:00.451681",
     "status": "completed"
    },
    "tags": []
   },
   "outputs": [
    {
     "data": {
      "text/plain": [
       "'# Support Vector Machine\\n\\nfrom sklearn.svm import SVC\\n\\nclassifier = SVC(kernel=\\'rbf\\', random_state = 1)\\nclassifier.fit(ss_scaled_df, y_df_new)\\ny_pred_svm = classifier.predict(ss_test_scaled_df)\\ny_pred_svm_train = classifier.predict(ss_scaled_df)\\n\\nprint(\"Test Data : \", f1_score(y_test_df,y_pred_svm))\\nprint(\"Train Data : \", f1_score(y_df_new,y_pred_svm_train))\\n\\nprint(\"Test Data : \", accuracy_score(y_test_df,y_pred_svm))\\nprint(\"Train Data : \", accuracy_score(y_df_new,y_pred_svm_train))\\n\\n'"
      ]
     },
     "execution_count": 26,
     "metadata": {},
     "output_type": "execute_result"
    }
   ],
   "source": [
    "\"\"\"# Support Vector Machine\n",
    "\n",
    "from sklearn.svm import SVC\n",
    "\n",
    "classifier = SVC(kernel='rbf', random_state = 1)\n",
    "classifier.fit(ss_scaled_df, y_df_new)\n",
    "y_pred_svm = classifier.predict(ss_test_scaled_df)\n",
    "y_pred_svm_train = classifier.predict(ss_scaled_df)\n",
    "\n",
    "print(\"Test Data : \", f1_score(y_test_df,y_pred_svm))\n",
    "print(\"Train Data : \", f1_score(y_df_new,y_pred_svm_train))\n",
    "\n",
    "print(\"Test Data : \", accuracy_score(y_test_df,y_pred_svm))\n",
    "print(\"Train Data : \", accuracy_score(y_df_new,y_pred_svm_train))\n",
    "\n",
    "\"\"\""
   ]
  },
  {
   "cell_type": "code",
   "execution_count": 27,
   "id": "b418b687",
   "metadata": {
    "execution": {
     "iopub.execute_input": "2023-03-30T17:53:00.490756Z",
     "iopub.status.busy": "2023-03-30T17:53:00.490345Z",
     "iopub.status.idle": "2023-03-30T17:53:00.496787Z",
     "shell.execute_reply": "2023-03-30T17:53:00.495905Z"
    },
    "papermill": {
     "duration": 0.01874,
     "end_time": "2023-03-30T17:53:00.498504",
     "exception": false,
     "start_time": "2023-03-30T17:53:00.479764",
     "status": "completed"
    },
    "tags": []
   },
   "outputs": [
    {
     "data": {
      "text/plain": [
       "'# Naive Bayes\\nnb = GaussianNB()\\n\\nparam_grid = {\\n    \\'var_smoothing\\': [1e-9, 1e-8, 1e-7, 1e-6, 1e-5]\\n}\\n\\n# Define the grid search object\\nnb_cv = GridSearchCV(nb, param_grid=param_grid, cv=5, scoring=\\'f1\\')\\n\\n# Fit the data to the grid search object\\nnb_cv.fit(ss_scaled_df, y_df_new)\\n\\n# Print the best hyperparameters and the corresponding F1 score\\nprint(\"Best Hyperparameters: \", nb_cv.best_params_)\\nprint(\"Best F1 Score: \", nb_cv.best_score_)\\n'"
      ]
     },
     "execution_count": 27,
     "metadata": {},
     "output_type": "execute_result"
    }
   ],
   "source": [
    "\"\"\"# Naive Bayes\n",
    "nb = GaussianNB()\n",
    "\n",
    "param_grid = {\n",
    "    'var_smoothing': [1e-9, 1e-8, 1e-7, 1e-6, 1e-5]\n",
    "}\n",
    "\n",
    "# Define the grid search object\n",
    "nb_cv = GridSearchCV(nb, param_grid=param_grid, cv=5, scoring='f1')\n",
    "\n",
    "# Fit the data to the grid search object\n",
    "nb_cv.fit(ss_scaled_df, y_df_new)\n",
    "\n",
    "# Print the best hyperparameters and the corresponding F1 score\n",
    "print(\"Best Hyperparameters: \", nb_cv.best_params_)\n",
    "print(\"Best F1 Score: \", nb_cv.best_score_)\n",
    "\"\"\"\n"
   ]
  },
  {
   "cell_type": "code",
   "execution_count": 28,
   "id": "5454fb95",
   "metadata": {
    "execution": {
     "iopub.execute_input": "2023-03-30T17:53:00.518709Z",
     "iopub.status.busy": "2023-03-30T17:53:00.518369Z",
     "iopub.status.idle": "2023-03-30T17:53:00.532886Z",
     "shell.execute_reply": "2023-03-30T17:53:00.531930Z"
    },
    "papermill": {
     "duration": 0.027213,
     "end_time": "2023-03-30T17:53:00.535263",
     "exception": false,
     "start_time": "2023-03-30T17:53:00.508050",
     "status": "completed"
    },
    "tags": []
   },
   "outputs": [],
   "source": [
    "nb = GaussianNB(var_smoothing = 1e-9)\n",
    "nb.fit(ss_scaled_df, y_df_new)\n",
    "y_pred_nb = nb.predict(ss_test_scaled_df)"
   ]
  },
  {
   "cell_type": "code",
   "execution_count": 29,
   "id": "7e651162",
   "metadata": {
    "execution": {
     "iopub.execute_input": "2023-03-30T17:53:00.556750Z",
     "iopub.status.busy": "2023-03-30T17:53:00.556362Z",
     "iopub.status.idle": "2023-03-30T17:53:00.563458Z",
     "shell.execute_reply": "2023-03-30T17:53:00.562301Z"
    },
    "papermill": {
     "duration": 0.020039,
     "end_time": "2023-03-30T17:53:00.565291",
     "exception": false,
     "start_time": "2023-03-30T17:53:00.545252",
     "status": "completed"
    },
    "tags": []
   },
   "outputs": [
    {
     "data": {
      "text/plain": [
       "'# Decision Tree Classifier\\nfrom sklearn.tree import DecisionTreeClassifier\\n\\nDTC = DecisionTreeClassifier()\\n\\n# Train Decision Tree Classifer\\nDTC = DTC.fit(df_filled,y_df_new)\\n\\n#Predict the response for test dataset\\ny_pred_DTC = DTC.predict(df_test_filled)\\ny_pred_DTC_train = DTC.predict(df_filled)\\n\\nprint(\"Test Data : \", f1_score(y_test_df,y_pred_DTC))\\nprint(\"Train Data : \", f1_score(y_df_new,y_pred_DTC_train))\\n\\nprint(\"Test Data : \", accuracy_score(y_test_df,y_pred_DTC))\\nprint(\"Train Data : \", accuracy_score(y_df_new,y_pred_DTC_train))\\n\\n#Terrible Classifier, remove before Final Submission\\n'"
      ]
     },
     "execution_count": 29,
     "metadata": {},
     "output_type": "execute_result"
    }
   ],
   "source": [
    "\"\"\"# Decision Tree Classifier\n",
    "from sklearn.tree import DecisionTreeClassifier\n",
    "\n",
    "DTC = DecisionTreeClassifier()\n",
    "\n",
    "# Train Decision Tree Classifer\n",
    "DTC = DTC.fit(df_filled,y_df_new)\n",
    "\n",
    "#Predict the response for test dataset\n",
    "y_pred_DTC = DTC.predict(df_test_filled)\n",
    "y_pred_DTC_train = DTC.predict(df_filled)\n",
    "\n",
    "print(\"Test Data : \", f1_score(y_test_df,y_pred_DTC))\n",
    "print(\"Train Data : \", f1_score(y_df_new,y_pred_DTC_train))\n",
    "\n",
    "print(\"Test Data : \", accuracy_score(y_test_df,y_pred_DTC))\n",
    "print(\"Train Data : \", accuracy_score(y_df_new,y_pred_DTC_train))\n",
    "\n",
    "#Terrible Classifier, remove before Final Submission\n",
    "\"\"\""
   ]
  },
  {
   "cell_type": "code",
   "execution_count": 30,
   "id": "c76f2f2b",
   "metadata": {
    "execution": {
     "iopub.execute_input": "2023-03-30T17:53:00.586481Z",
     "iopub.status.busy": "2023-03-30T17:53:00.586137Z",
     "iopub.status.idle": "2023-03-30T17:53:00.592015Z",
     "shell.execute_reply": "2023-03-30T17:53:00.591187Z"
    },
    "papermill": {
     "duration": 0.018413,
     "end_time": "2023-03-30T17:53:00.593774",
     "exception": false,
     "start_time": "2023-03-30T17:53:00.575361",
     "status": "completed"
    },
    "tags": []
   },
   "outputs": [
    {
     "data": {
      "text/plain": [
       "'# Random Forest\\n\\n\\n\\nforest = RandomForestClassifier(criterion=\\'gini\\',\\n                                 n_estimators=5,\\n                                 random_state=1,\\n                                 n_jobs=2)\\n\\nforest.fit(df_filled,y_df_new)\\ny_pred_for = forest.predict(df_test_filled)\\ny_pred_for_train = DTC.predict(df_filled)\\n\\nprint(\"Test Data : \", f1_score(y_test_df,y_pred_for))\\nprint(\"Train Data : \", f1_score(y_df_new,y_pred_for_train))\\n\\nprint(\"Test Data : \", accuracy_score(y_test_df,y_pred_for))\\nprint(\"Train Data : \", accuracy_score(y_df_new,y_pred_for_train))\\n'"
      ]
     },
     "execution_count": 30,
     "metadata": {},
     "output_type": "execute_result"
    }
   ],
   "source": [
    "\"\"\"# Random Forest\n",
    "\n",
    "\n",
    "\n",
    "forest = RandomForestClassifier(criterion='gini',\n",
    "                                 n_estimators=5,\n",
    "                                 random_state=1,\n",
    "                                 n_jobs=2)\n",
    "\n",
    "forest.fit(df_filled,y_df_new)\n",
    "y_pred_for = forest.predict(df_test_filled)\n",
    "y_pred_for_train = DTC.predict(df_filled)\n",
    "\n",
    "print(\"Test Data : \", f1_score(y_test_df,y_pred_for))\n",
    "print(\"Train Data : \", f1_score(y_df_new,y_pred_for_train))\n",
    "\n",
    "print(\"Test Data : \", accuracy_score(y_test_df,y_pred_for))\n",
    "print(\"Train Data : \", accuracy_score(y_df_new,y_pred_for_train))\n",
    "\"\"\""
   ]
  },
  {
   "cell_type": "code",
   "execution_count": 31,
   "id": "0b4dcdc2",
   "metadata": {
    "execution": {
     "iopub.execute_input": "2023-03-30T17:53:00.615694Z",
     "iopub.status.busy": "2023-03-30T17:53:00.615363Z",
     "iopub.status.idle": "2023-03-30T17:53:01.308299Z",
     "shell.execute_reply": "2023-03-30T17:53:01.306786Z"
    },
    "papermill": {
     "duration": 0.706326,
     "end_time": "2023-03-30T17:53:01.310458",
     "exception": false,
     "start_time": "2023-03-30T17:53:00.604132",
     "status": "completed"
    },
    "tags": []
   },
   "outputs": [
    {
     "name": "stdout",
     "output_type": "stream",
     "text": [
      "Learning rate:  0.05\n",
      "Accuracy score (training): 0.615\n",
      "Learning rate:  0.075\n",
      "Accuracy score (training): 0.632\n",
      "Learning rate:  0.1\n",
      "Accuracy score (training): 0.647\n",
      "Learning rate:  0.25\n",
      "Accuracy score (training): 0.651\n",
      "Learning rate:  0.5\n",
      "Accuracy score (training): 0.652\n",
      "Learning rate:  0.75\n",
      "Accuracy score (training): 0.652\n",
      "Learning rate:  1\n",
      "Accuracy score (training): 0.652\n",
      "Test Data :  0.18383924754168446\n"
     ]
    }
   ],
   "source": [
    "\"\"\"# Gradient Boosting Classifier\"\"\"\n",
    "\n",
    "\n",
    "\n",
    "from sklearn.ensemble import GradientBoostingClassifier\n",
    "\n",
    "lr_list = [0.05, 0.075, 0.1, 0.25, 0.5, 0.75, 1]\n",
    "\n",
    "for learning_rate in lr_list:\n",
    "    gb_clf = GradientBoostingClassifier(n_estimators=20, learning_rate=learning_rate, max_features=2, max_depth=2, random_state=0)\n",
    "    gb_clf.fit(ss_scaled_df, y_df_new)\n",
    "\n",
    "    print(\"Learning rate: \", learning_rate)\n",
    "    print(\"Accuracy score (training): {0:.3f}\".format(gb_clf.score(ss_scaled_df, y_df_new)))\n",
    "\n",
    "gb_clf2 = GradientBoostingClassifier(n_estimators=20, learning_rate=0.25, max_features=2, max_depth=2, random_state=0)\n",
    "gb_clf2.fit(ss_scaled_df, y_df_new)\n",
    "predictions = gb_clf2.predict(ss_test_scaled_df)\n",
    "\n",
    "print(\"Test Data : \", f1_score(y_test_df,predictions))\n",
    "#print(\"Train Data : \", f1_score(y_df_new,y_pred_for_train))\n"
   ]
  },
  {
   "cell_type": "code",
   "execution_count": 32,
   "id": "1d1bb029",
   "metadata": {
    "execution": {
     "iopub.execute_input": "2023-03-30T17:53:01.332512Z",
     "iopub.status.busy": "2023-03-30T17:53:01.332157Z",
     "iopub.status.idle": "2023-03-30T17:53:20.812785Z",
     "shell.execute_reply": "2023-03-30T17:53:20.811449Z"
    },
    "papermill": {
     "duration": 19.49381,
     "end_time": "2023-03-30T17:53:20.814716",
     "exception": false,
     "start_time": "2023-03-30T17:53:01.320906",
     "status": "completed"
    },
    "tags": []
   },
   "outputs": [
    {
     "name": "stdout",
     "output_type": "stream",
     "text": [
      "Best Hyperparameters:  {'n_estimators': 45, 'max_features': 'sqrt', 'learning_rate': 1}\n"
     ]
    }
   ],
   "source": [
    "hyperparameters = {\n",
    "    'learning_rate': lr_list,\n",
    "    'n_estimators': [20,30,45,50],\n",
    "    'max_features': ['sqrt', 'log2']\n",
    "}\n",
    "\n",
    "random_search = RandomizedSearchCV(\n",
    "    estimator=GradientBoostingClassifier(),\n",
    "    param_distributions=hyperparameters,\n",
    "    n_iter=50,\n",
    "    cv=5,\n",
    "    scoring='f1',\n",
    "    random_state=42,\n",
    "    n_jobs=-1\n",
    ")\n",
    "\n",
    "random_search.fit(ss_scaled_df, y_df_new)\n",
    "\n",
    "# Print the best set of hyperparameters\n",
    "print(\"Best Hyperparameters: \", random_search.best_params_)"
   ]
  },
  {
   "cell_type": "code",
   "execution_count": 33,
   "id": "e24389cc",
   "metadata": {
    "execution": {
     "iopub.execute_input": "2023-03-30T17:53:20.837137Z",
     "iopub.status.busy": "2023-03-30T17:53:20.836767Z",
     "iopub.status.idle": "2023-03-30T17:53:21.187126Z",
     "shell.execute_reply": "2023-03-30T17:53:21.186053Z"
    },
    "papermill": {
     "duration": 0.364539,
     "end_time": "2023-03-30T17:53:21.189576",
     "exception": false,
     "start_time": "2023-03-30T17:53:20.825037",
     "status": "completed"
    },
    "tags": []
   },
   "outputs": [],
   "source": [
    "gb_clf3 = GradientBoostingClassifier(n_estimators=45, learning_rate=1, max_features=\"sqrt\",random_state=42)\n",
    "gb_clf3.fit(ss_scaled_df, y_df_new)\n",
    "predictions_2 = gb_clf3.predict(ss_test_scaled_df)"
   ]
  },
  {
   "cell_type": "code",
   "execution_count": 34,
   "id": "927d1f65",
   "metadata": {
    "execution": {
     "iopub.execute_input": "2023-03-30T17:53:21.212445Z",
     "iopub.status.busy": "2023-03-30T17:53:21.212093Z",
     "iopub.status.idle": "2023-03-30T17:53:21.218774Z",
     "shell.execute_reply": "2023-03-30T17:53:21.217625Z"
    },
    "papermill": {
     "duration": 0.020532,
     "end_time": "2023-03-30T17:53:21.220829",
     "exception": false,
     "start_time": "2023-03-30T17:53:21.200297",
     "status": "completed"
    },
    "tags": []
   },
   "outputs": [
    {
     "data": {
      "text/plain": [
       "\"model = xgb.XGBClassifier()\\n\\n# Setting the hyperparameters\\nparams = {\\n    'max_depth': [3, 5, 7, 9],\\n    'learning_rate': [0.01, 0.1, 0.5, 1],\\n    'n_estimators': [20,25,30,40]\\n}\\nxgb_cv = GridSearchCV(model, params, scoring='f1', cv=5, n_jobs=-1)\\nxgb_cv.fit(ss_scaled_df, y_df_new)\\n\""
      ]
     },
     "execution_count": 34,
     "metadata": {},
     "output_type": "execute_result"
    }
   ],
   "source": [
    "\"\"\"model = xgb.XGBClassifier()\n",
    "\n",
    "# Setting the hyperparameters\n",
    "params = {\n",
    "    'max_depth': [3, 5, 7, 9],\n",
    "    'learning_rate': [0.01, 0.1, 0.5, 1],\n",
    "    'n_estimators': [20,25,30,40]\n",
    "}\n",
    "xgb_cv = GridSearchCV(model, params, scoring='f1', cv=5, n_jobs=-1)\n",
    "xgb_cv.fit(ss_scaled_df, y_df_new)\n",
    "\"\"\""
   ]
  },
  {
   "cell_type": "code",
   "execution_count": 35,
   "id": "5781c3a6",
   "metadata": {
    "execution": {
     "iopub.execute_input": "2023-03-30T17:53:21.243595Z",
     "iopub.status.busy": "2023-03-30T17:53:21.243240Z",
     "iopub.status.idle": "2023-03-30T17:53:21.249674Z",
     "shell.execute_reply": "2023-03-30T17:53:21.248778Z"
    },
    "papermill": {
     "duration": 0.020153,
     "end_time": "2023-03-30T17:53:21.251628",
     "exception": false,
     "start_time": "2023-03-30T17:53:21.231475",
     "status": "completed"
    },
    "tags": []
   },
   "outputs": [
    {
     "data": {
      "text/plain": [
       "'xgb_model = xgb.XGBClassifier(**xgb_cv.best_params_)\\nxgb_model.fit(ss_scaled_df, y_df_new)\\n\\n# Predicting on the test set and evaluating the F1 score\\ny_pred_xgb = xgb_model.predict(ss_test_scaled_df)\\n'"
      ]
     },
     "execution_count": 35,
     "metadata": {},
     "output_type": "execute_result"
    }
   ],
   "source": [
    "'''xgb_model = xgb.XGBClassifier(**xgb_cv.best_params_)\n",
    "xgb_model.fit(ss_scaled_df, y_df_new)\n",
    "\n",
    "# Predicting on the test set and evaluating the F1 score\n",
    "y_pred_xgb = xgb_model.predict(ss_test_scaled_df)\n",
    "'''"
   ]
  },
  {
   "cell_type": "code",
   "execution_count": 36,
   "id": "768acbf0",
   "metadata": {
    "execution": {
     "iopub.execute_input": "2023-03-30T17:53:21.274197Z",
     "iopub.status.busy": "2023-03-30T17:53:21.273767Z",
     "iopub.status.idle": "2023-03-30T17:53:21.289987Z",
     "shell.execute_reply": "2023-03-30T17:53:21.288630Z"
    },
    "papermill": {
     "duration": 0.029864,
     "end_time": "2023-03-30T17:53:21.292089",
     "exception": false,
     "start_time": "2023-03-30T17:53:21.262225",
     "status": "completed"
    },
    "tags": []
   },
   "outputs": [
    {
     "data": {
      "text/html": [
       "<div>\n",
       "<style scoped>\n",
       "    .dataframe tbody tr th:only-of-type {\n",
       "        vertical-align: middle;\n",
       "    }\n",
       "\n",
       "    .dataframe tbody tr th {\n",
       "        vertical-align: top;\n",
       "    }\n",
       "\n",
       "    .dataframe thead th {\n",
       "        text-align: right;\n",
       "    }\n",
       "</style>\n",
       "<table border=\"1\" class=\"dataframe\">\n",
       "  <thead>\n",
       "    <tr style=\"text-align: right;\">\n",
       "      <th></th>\n",
       "      <th>0</th>\n",
       "    </tr>\n",
       "  </thead>\n",
       "  <tbody>\n",
       "    <tr>\n",
       "      <th>0</th>\n",
       "      <td>False</td>\n",
       "    </tr>\n",
       "    <tr>\n",
       "      <th>1</th>\n",
       "      <td>False</td>\n",
       "    </tr>\n",
       "    <tr>\n",
       "      <th>2</th>\n",
       "      <td>False</td>\n",
       "    </tr>\n",
       "    <tr>\n",
       "      <th>3</th>\n",
       "      <td>False</td>\n",
       "    </tr>\n",
       "    <tr>\n",
       "      <th>4</th>\n",
       "      <td>False</td>\n",
       "    </tr>\n",
       "  </tbody>\n",
       "</table>\n",
       "</div>"
      ],
      "text/plain": [
       "       0\n",
       "0  False\n",
       "1  False\n",
       "2  False\n",
       "3  False\n",
       "4  False"
      ]
     },
     "execution_count": 36,
     "metadata": {},
     "output_type": "execute_result"
    }
   ],
   "source": [
    "#penu = pd.DataFrame(y_pred_log)\n",
    "#penu = pd.DataFrame(y_pred_svm)\n",
    "#penu = pd.DataFrame(y_pred_DTC)\n",
    "#penu = pd.DataFrame(y_pred_for)\n",
    "#penu = pd.DataFrame(y_pred_nb)\n",
    "penu = pd.DataFrame(predictions_2)\n",
    "#penu = pd.DataFrame(y_pred_xgb)\n",
    "data_to_submit= penu.replace({0:False,1:True})\n",
    "\n",
    "data_to_submit.head()"
   ]
  },
  {
   "cell_type": "code",
   "execution_count": 37,
   "id": "5c45e36a",
   "metadata": {
    "execution": {
     "iopub.execute_input": "2023-03-30T17:53:21.314813Z",
     "iopub.status.busy": "2023-03-30T17:53:21.314471Z",
     "iopub.status.idle": "2023-03-30T17:53:21.328141Z",
     "shell.execute_reply": "2023-03-30T17:53:21.327123Z"
    },
    "papermill": {
     "duration": 0.027355,
     "end_time": "2023-03-30T17:53:21.330087",
     "exception": false,
     "start_time": "2023-03-30T17:53:21.302732",
     "status": "completed"
    },
    "tags": []
   },
   "outputs": [
    {
     "name": "stdout",
     "output_type": "stream",
     "text": [
      "Finished\n"
     ]
    }
   ],
   "source": [
    "data_to_submit.index.name=\"id\";\n",
    "data_to_submit.to_csv('submission.csv', header=[\"Made_Purchase\"])\n",
    "print(\"Finished\")"
   ]
  }
 ],
 "metadata": {
  "kernelspec": {
   "display_name": "Python 3",
   "language": "python",
   "name": "python3"
  },
  "language_info": {
   "codemirror_mode": {
    "name": "ipython",
    "version": 3
   },
   "file_extension": ".py",
   "mimetype": "text/x-python",
   "name": "python",
   "nbconvert_exporter": "python",
   "pygments_lexer": "ipython3",
   "version": "3.7.12"
  },
  "papermill": {
   "default_parameters": {},
   "duration": 43.414975,
   "end_time": "2023-03-30T17:53:23.961596",
   "environment_variables": {},
   "exception": null,
   "input_path": "__notebook__.ipynb",
   "output_path": "__notebook__.ipynb",
   "parameters": {},
   "start_time": "2023-03-30T17:52:40.546621",
   "version": "2.3.4"
  }
 },
 "nbformat": 4,
 "nbformat_minor": 5
}
